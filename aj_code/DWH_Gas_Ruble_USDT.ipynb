{
 "cells": [
  {
   "cell_type": "code",
   "execution_count": null,
   "id": "124869ba",
   "metadata": {},
   "outputs": [],
   "source": [
    "import yfinance as yf\n",
    "import pandas as pd\n",
    "import statsmodels.api as sm\n",
    "from scipy import stats\n",
    "\n",
    "# Download historical price data for Gas, Ruble, and USDT\n",
    "start_date = '2018-01-01'\n",
    "end_date = '2025-07-27'\n",
    "gas_ticker = 'NG=F'  # NYMEX Natural Gas Futures\n",
    "ruble_ticker = 'RUB=X'  # USD/RUB exchange rate\n",
    "usdt_ticker = 'USDT-USD'  # Tether USD\n",
    "gas = yf.download(gas_ticker, start=start_date, end=end_date, interval='1d')[['Close']]\n",
    "ruble = yf.download(ruble_ticker, start=start_date, end=end_date, interval='1d')[['Close']]\n",
    "usdt = yf.download(usdt_ticker, start=start_date, end=end_date, interval='1d')[['Close']]\n",
    "\n",
    "# Rename columns for clarity\n",
    "gas.columns = ['Gas']\n",
    "ruble.columns = ['Ruble']\n",
    "usdt.columns = ['USDT']\n",
    "\n",
    "# Merge dataframes on date\n",
    "data = gas.join(ruble, how='inner').join(usdt, how='inner')\n",
    "data = data.dropna()\n",
    "\n",
    "# First stage: regress Ruble on Gas (IV)\n",
    "X = data['Ruble']\n",
    "IV = data['Gas']\n",
    "IV_const = sm.add_constant(IV)\n",
    "first_stage = sm.OLS(X, IV_const).fit()\n",
    "residuals = first_stage.resid\n",
    "\n",
    "# Second stage: regress USDT on Ruble and residuals\n",
    "X_ols = pd.DataFrame({'Ruble': X, 'Ruble_resid': residuals})\n",
    "X_ols_const = sm.add_constant(X_ols)\n",
    "y = data['USDT']\n",
    "ols_model = sm.OLS(y, X_ols_const).fit()\n",
    "print(ols_model.summary())\n",
    "print('Coefficient for Ruble residuals:', ols_model.params['Ruble_resid'])"
   ]
  }
 ],
 "metadata": {
  "kernelspec": {
   "display_name": "research",
   "language": "python",
   "name": "python3"
  },
  "language_info": {
   "codemirror_mode": {
    "name": "ipython",
    "version": 3
   },
   "file_extension": ".py",
   "mimetype": "text/x-python",
   "name": "python",
   "nbconvert_exporter": "python",
   "pygments_lexer": "ipython3",
   "version": "3.11.13"
  }
 },
 "nbformat": 4,
 "nbformat_minor": 5
}
